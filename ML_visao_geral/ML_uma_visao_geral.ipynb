{
 "cells": [
  {
   "cell_type": "markdown",
   "metadata": {},
   "source": [
    "# Machine Learning, uma visão geral\n",
    "Acredito, que assim como eu, você já deve ter ouvido diversos termos relacionados a ML, como algoritmos supervisionados, não-supervisionados, regressão, classificação, entre outros.\n",
    "Hoje, quero organizar isso tudo dentro da sua mente, mostrar e te dar uma visão geral sobre esses termos que a gente tanto escuta, e iluminar um pouco do seu caminho."
   ]
  },
  {
   "cell_type": "markdown",
   "metadata": {},
   "source": [
    "## Classificação x Regressão\n",
    "Então vamos começar do básico, sabe qual a diferença entre classificação e regressão?"
   ]
  },
  {
   "cell_type": "markdown",
   "metadata": {},
   "source": []
  }
 ],
 "metadata": {
  "language_info": {
   "name": "python"
  }
 },
 "nbformat": 4,
 "nbformat_minor": 2
}
