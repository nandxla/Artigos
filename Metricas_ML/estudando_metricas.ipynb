{
 "cells": [
  {
   "cell_type": "code",
   "execution_count": 3,
   "metadata": {},
   "outputs": [],
   "source": [
    "import pandas as pd\n",
    "import numpy as np\n",
    "\n",
    "# importando libs que usarei na criação de ambos os modelos\n",
    "from sklearn.model_selection import train_test_split\n",
    "from sklearn.pipeline import Pipeline\n",
    "from sklearn.compose import ColumnTransformer\n",
    "from sklearn.preprocessing import OneHotEncoder\n",
    "from sklearn.impute import SimpleImputer"
   ]
  },
  {
   "cell_type": "markdown",
   "metadata": {},
   "source": [
    "# Classificação\n",
    "Vamos começar com um modelo de classificação, usarei um dataset que contêm dados de transações que são, ou não, fraudulentas."
   ]
  },
  {
   "cell_type": "code",
   "execution_count": 4,
   "metadata": {},
   "outputs": [],
   "source": [
    "from sklearn.tree import DecisionTreeClassifier  # modelo de classificação \n",
    "from sklearn.metrics import (\n",
    "    # métricas usadas em modelos de classificação\n",
    "    accuracy_score,\n",
    "    precision_score,\n",
    "    recall_score,\n",
    "    f1_score,\n",
    ")"
   ]
  },
  {
   "cell_type": "code",
   "execution_count": 9,
   "metadata": {},
   "outputs": [
    {
     "name": "stdout",
     "output_type": "stream",
     "text": [
      "<class 'pandas.core.frame.DataFrame'>\n",
      "RangeIndex: 10000 entries, 0 to 9999\n",
      "Data columns (total 11 columns):\n",
      " #   Column                   Non-Null Count  Dtype  \n",
      "---  ------                   --------------  -----  \n",
      " 0   transaction_id           10000 non-null  int64  \n",
      " 1   customer_id              10000 non-null  int64  \n",
      " 2   merchant_id              10000 non-null  int64  \n",
      " 3   amount                   10000 non-null  float64\n",
      " 4   transaction_time         10000 non-null  object \n",
      " 5   is_fraudulent            10000 non-null  int64  \n",
      " 6   card_type                10000 non-null  object \n",
      " 7   location                 10000 non-null  object \n",
      " 8   purchase_category        10000 non-null  object \n",
      " 9   customer_age             10000 non-null  int64  \n",
      " 10  transaction_description  10000 non-null  object \n",
      "dtypes: float64(1), int64(5), object(5)\n",
      "memory usage: 859.5+ KB\n"
     ]
    }
   ],
   "source": [
    "credit_card_df = pd.read_csv('synthetic_financial_data.csv')\n",
    "credit_card_df.info()"
   ]
  },
  {
   "cell_type": "code",
   "execution_count": 7,
   "metadata": {},
   "outputs": [
    {
     "data": {
      "text/plain": [
       "transaction_time           10000\n",
       "card_type                      4\n",
       "location                      50\n",
       "purchase_category              6\n",
       "transaction_description      100\n",
       "dtype: int64"
      ]
     },
     "execution_count": 7,
     "metadata": {},
     "output_type": "execute_result"
    }
   ],
   "source": [
    "credit_card_df.select_dtypes(include='object').nunique()"
   ]
  },
  {
   "cell_type": "markdown",
   "metadata": {},
   "source": [
    "### Pre-Processamento\n",
    "\n",
    "Vou excluir algumas colunas não importantes para nosso modelo, como estou focando na parte final do nosso modelo, as métricas, não usarei nada mirabolante, como feature engineering ou coisa do tipo."
   ]
  },
  {
   "cell_type": "code",
   "execution_count": 10,
   "metadata": {},
   "outputs": [],
   "source": [
    "columns_to_drop = [\n",
    "    'transaction_id',\n",
    "    'customer_id',\n",
    "    'merchant_id',\n",
    "    'transaction_description',\n",
    "    'location',\n",
    "]\n",
    "\n",
    "credit_card_df.drop(columns_to_drop, axis=1, inplace=True)"
   ]
  },
  {
   "cell_type": "code",
   "execution_count": 11,
   "metadata": {},
   "outputs": [
    {
     "data": {
      "text/plain": [
       "transaction_time     10000\n",
       "card_type                4\n",
       "purchase_category        6\n",
       "dtype: int64"
      ]
     },
     "execution_count": 11,
     "metadata": {},
     "output_type": "execute_result"
    }
   ],
   "source": [
    "credit_card_df.select_dtypes(include='object').nunique()"
   ]
  },
  {
   "cell_type": "code",
   "execution_count": 14,
   "metadata": {},
   "outputs": [
    {
     "name": "stdout",
     "output_type": "stream",
     "text": [
      "<class 'pandas.core.frame.DataFrame'>\n",
      "RangeIndex: 10000 entries, 0 to 9999\n",
      "Data columns (total 6 columns):\n",
      " #   Column             Non-Null Count  Dtype         \n",
      "---  ------             --------------  -----         \n",
      " 0   amount             10000 non-null  float64       \n",
      " 1   transaction_time   10000 non-null  datetime64[ns]\n",
      " 2   is_fraudulent      10000 non-null  int64         \n",
      " 3   card_type          10000 non-null  object        \n",
      " 4   purchase_category  10000 non-null  object        \n",
      " 5   customer_age       10000 non-null  int64         \n",
      "dtypes: datetime64[ns](1), float64(1), int64(2), object(2)\n",
      "memory usage: 468.9+ KB\n"
     ]
    }
   ],
   "source": [
    "credit_card_df['transaction_time'] = pd.to_datetime(credit_card_df['transaction_time'])\n",
    "\n",
    "credit_card_df.info()"
   ]
  },
  {
   "cell_type": "markdown",
   "metadata": {},
   "source": [
    "### Criação dos Pipelines"
   ]
  },
  {
   "cell_type": "code",
   "execution_count": 26,
   "metadata": {},
   "outputs": [],
   "source": [
    "target = 'is_fraudulent'\n",
    "object_cols = [col for col in credit_card_df.columns if credit_card_df[col].dtypes == 'object' and credit_card_df[col].name != target]\n",
    "numeric_cols = [col for col in credit_card_df.columns if credit_card_df[col].dtypes in ['int64', 'float64'] and credit_card_df[col].name != target]\n",
    "datetime_cols = [col for col in credit_card_df.columns if credit_card_df[col].dtypes == 'datetime64[ns]' and credit_card_df[col].name != target]"
   ]
  },
  {
   "cell_type": "code",
   "execution_count": 27,
   "metadata": {},
   "outputs": [],
   "source": [
    "X = credit_card_df[object_cols + numeric_cols + datetime_cols]\n",
    "y = credit_card_df[target]\n",
    "\n",
    "X_train, X_test, y_train, y_test = train_test_split(X, y)"
   ]
  },
  {
   "cell_type": "code",
   "execution_count": 32,
   "metadata": {},
   "outputs": [],
   "source": [
    "object_pipe = Pipeline([\n",
    "    ('impute', SimpleImputer(strategy='most_frequent')),\n",
    "    ('OH', OneHotEncoder(handle_unknown='ignore', sparse_output=False)),\n",
    "])\n",
    "\n",
    "numeric_pipeline = Pipeline([\n",
    "    ('impute', SimpleImputer(strategy='median'))\n",
    "])\n",
    "\n",
    "column_transform = ColumnTransformer([\n",
    "    ('object_pipeline', object_pipe, object_cols),\n",
    "    ('numeric_pipeline', numeric_pipeline, numeric_cols),\n",
    "])"
   ]
  },
  {
   "cell_type": "code",
   "execution_count": 34,
   "metadata": {},
   "outputs": [],
   "source": [
    "X_train_transform = column_transform.fit_transform(X_train)\n",
    "X_test_transform = column_transform.transform(X_test)"
   ]
  },
  {
   "cell_type": "markdown",
   "metadata": {},
   "source": [
    "### Criando o Modelo"
   ]
  },
  {
   "cell_type": "code",
   "execution_count": 36,
   "metadata": {},
   "outputs": [
    {
     "data": {
      "text/html": [
       "<style>#sk-container-id-1 {color: black;}#sk-container-id-1 pre{padding: 0;}#sk-container-id-1 div.sk-toggleable {background-color: white;}#sk-container-id-1 label.sk-toggleable__label {cursor: pointer;display: block;width: 100%;margin-bottom: 0;padding: 0.3em;box-sizing: border-box;text-align: center;}#sk-container-id-1 label.sk-toggleable__label-arrow:before {content: \"▸\";float: left;margin-right: 0.25em;color: #696969;}#sk-container-id-1 label.sk-toggleable__label-arrow:hover:before {color: black;}#sk-container-id-1 div.sk-estimator:hover label.sk-toggleable__label-arrow:before {color: black;}#sk-container-id-1 div.sk-toggleable__content {max-height: 0;max-width: 0;overflow: hidden;text-align: left;background-color: #f0f8ff;}#sk-container-id-1 div.sk-toggleable__content pre {margin: 0.2em;color: black;border-radius: 0.25em;background-color: #f0f8ff;}#sk-container-id-1 input.sk-toggleable__control:checked~div.sk-toggleable__content {max-height: 200px;max-width: 100%;overflow: auto;}#sk-container-id-1 input.sk-toggleable__control:checked~label.sk-toggleable__label-arrow:before {content: \"▾\";}#sk-container-id-1 div.sk-estimator input.sk-toggleable__control:checked~label.sk-toggleable__label {background-color: #d4ebff;}#sk-container-id-1 div.sk-label input.sk-toggleable__control:checked~label.sk-toggleable__label {background-color: #d4ebff;}#sk-container-id-1 input.sk-hidden--visually {border: 0;clip: rect(1px 1px 1px 1px);clip: rect(1px, 1px, 1px, 1px);height: 1px;margin: -1px;overflow: hidden;padding: 0;position: absolute;width: 1px;}#sk-container-id-1 div.sk-estimator {font-family: monospace;background-color: #f0f8ff;border: 1px dotted black;border-radius: 0.25em;box-sizing: border-box;margin-bottom: 0.5em;}#sk-container-id-1 div.sk-estimator:hover {background-color: #d4ebff;}#sk-container-id-1 div.sk-parallel-item::after {content: \"\";width: 100%;border-bottom: 1px solid gray;flex-grow: 1;}#sk-container-id-1 div.sk-label:hover label.sk-toggleable__label {background-color: #d4ebff;}#sk-container-id-1 div.sk-serial::before {content: \"\";position: absolute;border-left: 1px solid gray;box-sizing: border-box;top: 0;bottom: 0;left: 50%;z-index: 0;}#sk-container-id-1 div.sk-serial {display: flex;flex-direction: column;align-items: center;background-color: white;padding-right: 0.2em;padding-left: 0.2em;position: relative;}#sk-container-id-1 div.sk-item {position: relative;z-index: 1;}#sk-container-id-1 div.sk-parallel {display: flex;align-items: stretch;justify-content: center;background-color: white;position: relative;}#sk-container-id-1 div.sk-item::before, #sk-container-id-1 div.sk-parallel-item::before {content: \"\";position: absolute;border-left: 1px solid gray;box-sizing: border-box;top: 0;bottom: 0;left: 50%;z-index: -1;}#sk-container-id-1 div.sk-parallel-item {display: flex;flex-direction: column;z-index: 1;position: relative;background-color: white;}#sk-container-id-1 div.sk-parallel-item:first-child::after {align-self: flex-end;width: 50%;}#sk-container-id-1 div.sk-parallel-item:last-child::after {align-self: flex-start;width: 50%;}#sk-container-id-1 div.sk-parallel-item:only-child::after {width: 0;}#sk-container-id-1 div.sk-dashed-wrapped {border: 1px dashed gray;margin: 0 0.4em 0.5em 0.4em;box-sizing: border-box;padding-bottom: 0.4em;background-color: white;}#sk-container-id-1 div.sk-label label {font-family: monospace;font-weight: bold;display: inline-block;line-height: 1.2em;}#sk-container-id-1 div.sk-label-container {text-align: center;}#sk-container-id-1 div.sk-container {/* jupyter's `normalize.less` sets `[hidden] { display: none; }` but bootstrap.min.css set `[hidden] { display: none !important; }` so we also need the `!important` here to be able to override the default hidden behavior on the sphinx rendered scikit-learn.org. See: https://github.com/scikit-learn/scikit-learn/issues/21755 */display: inline-block !important;position: relative;}#sk-container-id-1 div.sk-text-repr-fallback {display: none;}</style><div id=\"sk-container-id-1\" class=\"sk-top-container\"><div class=\"sk-text-repr-fallback\"><pre>DecisionTreeClassifier()</pre><b>In a Jupyter environment, please rerun this cell to show the HTML representation or trust the notebook. <br />On GitHub, the HTML representation is unable to render, please try loading this page with nbviewer.org.</b></div><div class=\"sk-container\" hidden><div class=\"sk-item\"><div class=\"sk-estimator sk-toggleable\"><input class=\"sk-toggleable__control sk-hidden--visually\" id=\"sk-estimator-id-1\" type=\"checkbox\" checked><label for=\"sk-estimator-id-1\" class=\"sk-toggleable__label sk-toggleable__label-arrow\">DecisionTreeClassifier</label><div class=\"sk-toggleable__content\"><pre>DecisionTreeClassifier()</pre></div></div></div></div></div>"
      ],
      "text/plain": [
       "DecisionTreeClassifier()"
      ]
     },
     "execution_count": 36,
     "metadata": {},
     "output_type": "execute_result"
    }
   ],
   "source": [
    "clf = DecisionTreeClassifier()\n",
    "clf.fit(X_train_transform, y_train)"
   ]
  },
  {
   "cell_type": "code",
   "execution_count": 38,
   "metadata": {},
   "outputs": [
    {
     "data": {
      "text/plain": [
       "array([1, 1, 0, ..., 1, 1, 0], dtype=int64)"
      ]
     },
     "execution_count": 38,
     "metadata": {},
     "output_type": "execute_result"
    }
   ],
   "source": [
    "clf_y_pred = clf.predict(X_test_transform)\n",
    "clf_y_pred"
   ]
  },
  {
   "cell_type": "markdown",
   "metadata": {},
   "source": [
    "### Calculando Métricas"
   ]
  },
  {
   "cell_type": "code",
   "execution_count": 41,
   "metadata": {},
   "outputs": [
    {
     "name": "stdout",
     "output_type": "stream",
     "text": [
      "Accuracy 0.4972\n",
      "Precision 0.5047095761381476\n",
      "Recall 0.5066981875492513\n",
      "F1-Score 0.5057019268580417\n"
     ]
    }
   ],
   "source": [
    "print(f\"Accuracy {accuracy_score(y_pred=clf_y_pred, y_true=y_test)}\")\n",
    "print(f\"Precision {precision_score(y_pred=clf_y_pred, y_true=y_test)}\")\n",
    "print(f\"Recall {recall_score(y_pred=clf_y_pred, y_true=y_test)}\")\n",
    "print(f\"F1-Score {f1_score(y_pred=clf_y_pred, y_true=y_test)}\")"
   ]
  },
  {
   "cell_type": "markdown",
   "metadata": {},
   "source": [
    "Podemos ver que nossa Accurary está em torno de 49%, a taxa de acertos foi abaixo da metade, o Precision - nos da uma ideia dos Falsos Positivos - tá em torno de 50%, ou seja, metade dos nossos dados foi previsto de forma errada, foram de falsos positivos, a mesma coisa para o recall, e como o F1 é a junção dos dois, o resultado é semelhante."
   ]
  },
  {
   "cell_type": "markdown",
   "metadata": {},
   "source": [
    "# Regressão\n",
    "Usaremos um Dataset de vinhos, e vamos usar para prever a qualidade de um determinado vinho baseado das suas condições."
   ]
  },
  {
   "cell_type": "code",
   "execution_count": 45,
   "metadata": {},
   "outputs": [],
   "source": [
    "from sklearn.linear_model import LinearRegression  # modelo que usaremos\n",
    "from sklearn.metrics import (\n",
    "    # importante métricas\n",
    "    mean_squared_error,\n",
    "    mean_absolute_error,\n",
    ")"
   ]
  },
  {
   "cell_type": "code",
   "execution_count": 43,
   "metadata": {},
   "outputs": [
    {
     "name": "stdout",
     "output_type": "stream",
     "text": [
      "<class 'pandas.core.frame.DataFrame'>\n",
      "RangeIndex: 1599 entries, 0 to 1598\n",
      "Data columns (total 12 columns):\n",
      " #   Column                Non-Null Count  Dtype  \n",
      "---  ------                --------------  -----  \n",
      " 0   fixed acidity         1599 non-null   float64\n",
      " 1   volatile acidity      1599 non-null   float64\n",
      " 2   citric acid           1599 non-null   float64\n",
      " 3   residual sugar        1599 non-null   float64\n",
      " 4   chlorides             1599 non-null   float64\n",
      " 5   free sulfur dioxide   1599 non-null   float64\n",
      " 6   total sulfur dioxide  1599 non-null   float64\n",
      " 7   density               1599 non-null   float64\n",
      " 8   pH                    1599 non-null   float64\n",
      " 9   sulphates             1599 non-null   float64\n",
      " 10  alcohol               1599 non-null   float64\n",
      " 11  quality               1599 non-null   int64  \n",
      "dtypes: float64(11), int64(1)\n",
      "memory usage: 150.0 KB\n"
     ]
    }
   ],
   "source": [
    "wine_df = pd.read_csv('winequality-red.csv')\n",
    "wine_df.info()"
   ]
  },
  {
   "cell_type": "markdown",
   "metadata": {},
   "source": [
    "Como esse Dataset não tem dados faltantes e nem categóricos, não irei perder tempo fazendo pipelines para tratar os dados."
   ]
  },
  {
   "cell_type": "code",
   "execution_count": 44,
   "metadata": {},
   "outputs": [],
   "source": [
    "X = wine_df.drop('quality', axis=1)\n",
    "y = wine_df['quality']\n",
    "\n",
    "X_train, X_test, y_train, y_test = train_test_split(X, y)"
   ]
  },
  {
   "cell_type": "code",
   "execution_count": 46,
   "metadata": {},
   "outputs": [
    {
     "data": {
      "text/html": [
       "<style>#sk-container-id-2 {color: black;}#sk-container-id-2 pre{padding: 0;}#sk-container-id-2 div.sk-toggleable {background-color: white;}#sk-container-id-2 label.sk-toggleable__label {cursor: pointer;display: block;width: 100%;margin-bottom: 0;padding: 0.3em;box-sizing: border-box;text-align: center;}#sk-container-id-2 label.sk-toggleable__label-arrow:before {content: \"▸\";float: left;margin-right: 0.25em;color: #696969;}#sk-container-id-2 label.sk-toggleable__label-arrow:hover:before {color: black;}#sk-container-id-2 div.sk-estimator:hover label.sk-toggleable__label-arrow:before {color: black;}#sk-container-id-2 div.sk-toggleable__content {max-height: 0;max-width: 0;overflow: hidden;text-align: left;background-color: #f0f8ff;}#sk-container-id-2 div.sk-toggleable__content pre {margin: 0.2em;color: black;border-radius: 0.25em;background-color: #f0f8ff;}#sk-container-id-2 input.sk-toggleable__control:checked~div.sk-toggleable__content {max-height: 200px;max-width: 100%;overflow: auto;}#sk-container-id-2 input.sk-toggleable__control:checked~label.sk-toggleable__label-arrow:before {content: \"▾\";}#sk-container-id-2 div.sk-estimator input.sk-toggleable__control:checked~label.sk-toggleable__label {background-color: #d4ebff;}#sk-container-id-2 div.sk-label input.sk-toggleable__control:checked~label.sk-toggleable__label {background-color: #d4ebff;}#sk-container-id-2 input.sk-hidden--visually {border: 0;clip: rect(1px 1px 1px 1px);clip: rect(1px, 1px, 1px, 1px);height: 1px;margin: -1px;overflow: hidden;padding: 0;position: absolute;width: 1px;}#sk-container-id-2 div.sk-estimator {font-family: monospace;background-color: #f0f8ff;border: 1px dotted black;border-radius: 0.25em;box-sizing: border-box;margin-bottom: 0.5em;}#sk-container-id-2 div.sk-estimator:hover {background-color: #d4ebff;}#sk-container-id-2 div.sk-parallel-item::after {content: \"\";width: 100%;border-bottom: 1px solid gray;flex-grow: 1;}#sk-container-id-2 div.sk-label:hover label.sk-toggleable__label {background-color: #d4ebff;}#sk-container-id-2 div.sk-serial::before {content: \"\";position: absolute;border-left: 1px solid gray;box-sizing: border-box;top: 0;bottom: 0;left: 50%;z-index: 0;}#sk-container-id-2 div.sk-serial {display: flex;flex-direction: column;align-items: center;background-color: white;padding-right: 0.2em;padding-left: 0.2em;position: relative;}#sk-container-id-2 div.sk-item {position: relative;z-index: 1;}#sk-container-id-2 div.sk-parallel {display: flex;align-items: stretch;justify-content: center;background-color: white;position: relative;}#sk-container-id-2 div.sk-item::before, #sk-container-id-2 div.sk-parallel-item::before {content: \"\";position: absolute;border-left: 1px solid gray;box-sizing: border-box;top: 0;bottom: 0;left: 50%;z-index: -1;}#sk-container-id-2 div.sk-parallel-item {display: flex;flex-direction: column;z-index: 1;position: relative;background-color: white;}#sk-container-id-2 div.sk-parallel-item:first-child::after {align-self: flex-end;width: 50%;}#sk-container-id-2 div.sk-parallel-item:last-child::after {align-self: flex-start;width: 50%;}#sk-container-id-2 div.sk-parallel-item:only-child::after {width: 0;}#sk-container-id-2 div.sk-dashed-wrapped {border: 1px dashed gray;margin: 0 0.4em 0.5em 0.4em;box-sizing: border-box;padding-bottom: 0.4em;background-color: white;}#sk-container-id-2 div.sk-label label {font-family: monospace;font-weight: bold;display: inline-block;line-height: 1.2em;}#sk-container-id-2 div.sk-label-container {text-align: center;}#sk-container-id-2 div.sk-container {/* jupyter's `normalize.less` sets `[hidden] { display: none; }` but bootstrap.min.css set `[hidden] { display: none !important; }` so we also need the `!important` here to be able to override the default hidden behavior on the sphinx rendered scikit-learn.org. See: https://github.com/scikit-learn/scikit-learn/issues/21755 */display: inline-block !important;position: relative;}#sk-container-id-2 div.sk-text-repr-fallback {display: none;}</style><div id=\"sk-container-id-2\" class=\"sk-top-container\"><div class=\"sk-text-repr-fallback\"><pre>LinearRegression()</pre><b>In a Jupyter environment, please rerun this cell to show the HTML representation or trust the notebook. <br />On GitHub, the HTML representation is unable to render, please try loading this page with nbviewer.org.</b></div><div class=\"sk-container\" hidden><div class=\"sk-item\"><div class=\"sk-estimator sk-toggleable\"><input class=\"sk-toggleable__control sk-hidden--visually\" id=\"sk-estimator-id-2\" type=\"checkbox\" checked><label for=\"sk-estimator-id-2\" class=\"sk-toggleable__label sk-toggleable__label-arrow\">LinearRegression</label><div class=\"sk-toggleable__content\"><pre>LinearRegression()</pre></div></div></div></div></div>"
      ],
      "text/plain": [
       "LinearRegression()"
      ]
     },
     "execution_count": 46,
     "metadata": {},
     "output_type": "execute_result"
    }
   ],
   "source": [
    "lrg = LinearRegression()\n",
    "lrg.fit(X_train, y_train)"
   ]
  },
  {
   "cell_type": "code",
   "execution_count": 48,
   "metadata": {},
   "outputs": [
    {
     "data": {
      "text/plain": [
       "array([6.27767399, 6.34311776, 6.22656082, 6.16815286, 5.33516373,\n",
       "       5.52747452, 5.49141438, 5.71528287, 4.23618184, 5.997418  ,\n",
       "       5.1649321 , 6.61123436, 5.70930404, 5.78137731, 4.90804978,\n",
       "       6.20333624, 4.87942756, 5.00097028, 5.38482906, 4.99258116,\n",
       "       6.62895555, 4.99197316, 5.94857716, 6.16986294, 5.81586128,\n",
       "       5.03466621, 6.24449622, 6.09696474, 6.19603406, 5.26811531,\n",
       "       5.15882175, 5.41941072, 5.18847913, 6.19335595, 4.9692581 ,\n",
       "       4.99464769, 6.07146115, 5.76344231, 5.53923516, 5.37239942,\n",
       "       5.36853019, 5.42683571, 5.76885916, 5.73168876, 5.37853955,\n",
       "       5.23009979, 4.76029036, 5.54603664, 5.63177687, 5.98789492,\n",
       "       5.63310264, 5.23216039, 6.29155162, 6.55288904, 6.2573297 ,\n",
       "       6.05063668, 5.0002599 , 5.43271097, 5.27457275, 5.83102261,\n",
       "       5.4094192 , 5.33620748, 5.87332156, 4.97318222, 5.08427667,\n",
       "       4.79430263, 5.41842205, 5.19730801, 6.33851934, 5.23965251,\n",
       "       5.64806736, 5.67324638, 6.09805516, 5.15720813, 5.73274497,\n",
       "       5.9334295 , 5.16094805, 5.01165599, 5.32675166, 5.28717377,\n",
       "       5.73525021, 5.80454506, 5.99420326, 5.38217341, 5.23852216,\n",
       "       5.38334653, 5.10645432, 5.2850797 , 6.27398953, 5.36853019,\n",
       "       5.11334024, 6.14293165, 5.34768435, 5.66692533, 5.81763464,\n",
       "       6.2500838 , 5.19409964, 5.4362584 , 5.02203576, 5.76441214,\n",
       "       5.38435995, 5.43194449, 6.10626533, 5.2683193 , 6.4184809 ,\n",
       "       5.58305399, 5.23422813, 5.32406062, 6.54000541, 5.45017677,\n",
       "       5.01223609, 4.9780631 , 6.07916433, 5.85780798, 5.95997483,\n",
       "       6.42439645, 6.49763708, 6.08971878, 6.09805516, 5.07666404,\n",
       "       5.5606543 , 5.12895307, 5.05007569, 5.05545516, 5.4758749 ,\n",
       "       6.58165597, 5.36280475, 5.12705337, 6.11563928, 5.61088616,\n",
       "       5.32112757, 5.28212846, 5.36555124, 5.15548341, 5.32065035,\n",
       "       5.20245847, 5.78481883, 5.87730263, 4.86109853, 6.11309144,\n",
       "       5.59726283, 6.6471183 , 5.68791386, 5.4758749 , 6.44815332,\n",
       "       5.39990996, 5.90071656, 6.39202861, 6.57865152, 5.5099197 ,\n",
       "       4.7402967 , 5.20818278, 4.988843  , 4.98061223, 5.09721194,\n",
       "       4.70303143, 5.32264508, 5.66258916, 6.31002504, 5.75719166,\n",
       "       5.78830263, 5.62862206, 5.33182118, 5.35209427, 6.56736044,\n",
       "       5.16575854, 5.43515838, 5.83288514, 5.39447406, 5.27625418,\n",
       "       4.91179544, 6.36673437, 5.26149548, 6.22790041, 4.84286447,\n",
       "       5.22984804, 4.95303746, 6.24026709, 5.46719964, 5.30050408,\n",
       "       5.47384651, 6.1206918 , 5.39534487, 5.35119942, 5.65430527,\n",
       "       5.07968361, 5.74094879, 5.97737503, 5.33606234, 6.05285489,\n",
       "       5.27327403, 5.91876909, 5.7630028 , 6.03264232, 5.22689953,\n",
       "       6.6512315 , 5.34352894, 6.32314566, 6.27701193, 5.27401218,\n",
       "       5.16006323, 5.24315327, 5.36803016, 5.51123454, 6.01579899,\n",
       "       5.85780798, 5.64360473, 5.1649321 , 5.08472671, 5.24035196,\n",
       "       5.33806654, 5.36803016, 6.08679212, 6.27657492, 5.98779814,\n",
       "       6.32228569, 5.33182118, 5.1337014 , 6.65292398, 5.70602366,\n",
       "       5.80532397, 5.25867113, 5.44576709, 5.65427654, 5.36590338,\n",
       "       6.07354429, 5.22349406, 5.23007977, 5.51665515, 5.2612334 ,\n",
       "       5.10876802, 5.75694831, 5.20916825, 6.27523644, 6.29305981,\n",
       "       4.79817772, 6.13875651, 6.01797248, 5.24245263, 5.33650309,\n",
       "       5.69466885, 5.22012267, 5.63257828, 5.81526414, 6.08912421,\n",
       "       5.40133136, 5.19125077, 6.52834575, 5.88867997, 5.38738144,\n",
       "       5.05344713, 5.22689953, 5.67960604, 5.39988349, 5.00093559,\n",
       "       5.84350537, 5.07885314, 5.93449426, 5.43911646, 5.8186917 ,\n",
       "       5.34920264, 5.30760443, 6.19901963, 5.07968361, 5.29192515,\n",
       "       5.58210597, 5.40726609, 5.1180816 , 5.44900656, 5.02661137,\n",
       "       5.37327597, 5.41829745, 6.23464739, 5.02422798, 5.23065891,\n",
       "       5.10092377, 5.18061775, 6.09805516, 6.08592832, 6.58025376,\n",
       "       5.74572011, 4.86858654, 5.0131395 , 5.9870477 , 5.21361487,\n",
       "       5.76985641, 5.63884794, 5.75422602, 4.23328968, 5.53270139,\n",
       "       5.92743331, 6.24994833, 5.2306109 , 5.24085714, 6.41278621,\n",
       "       6.31396094, 5.88586783, 5.12008158, 6.01222167, 6.74867481,\n",
       "       4.33555713, 5.35594694, 4.74636198, 6.14781186, 6.59188242,\n",
       "       5.3542862 , 5.5585771 , 4.69907202, 5.4798915 , 5.27654613,\n",
       "       6.02950574, 6.08912421, 4.92436846, 5.34186145, 5.04447175,\n",
       "       5.50982328, 6.20496633, 6.60694113, 6.05025742, 5.09826071,\n",
       "       5.23537285, 5.40880767, 6.51505465, 5.64392716, 6.39929622,\n",
       "       4.94337025, 5.30271347, 5.24804985, 4.72714248, 6.61123436,\n",
       "       5.73730869, 5.12561978, 5.90552931, 5.42274453, 5.29222717,\n",
       "       5.63118168, 6.15073218, 6.15249702, 6.46909397, 5.8585602 ,\n",
       "       5.49141438, 5.32386152, 5.12618532, 5.88248029, 5.92044737,\n",
       "       6.09952671, 5.55476569, 5.5020233 , 5.10116245, 5.17884974,\n",
       "       5.998551  , 5.9697386 , 4.87022503, 5.80627213, 5.9082753 ,\n",
       "       5.71331408, 5.52796933, 6.38766911, 4.65740339, 5.4708563 ,\n",
       "       5.77966352, 5.11794279, 5.7643566 , 5.97446151, 5.39330791,\n",
       "       6.88864376, 5.90352879, 5.03173579, 5.72379497, 6.12570704,\n",
       "       5.89865925, 6.16815286, 6.56371435, 5.56677057, 5.82320155,\n",
       "       6.24709684, 5.37251965, 4.80156343, 5.28999536, 6.10081313,\n",
       "       5.58210597, 5.18420058, 4.7709499 , 5.7520722 , 4.94668132,\n",
       "       4.99197316, 5.63310264, 6.25343508, 6.10414525, 4.99721538,\n",
       "       5.81875381, 4.86881373, 5.84168135, 6.90264409, 4.74289843,\n",
       "       5.71486755, 5.21399129, 6.75103772, 5.49378186, 5.59065818])"
      ]
     },
     "execution_count": 48,
     "metadata": {},
     "output_type": "execute_result"
    }
   ],
   "source": [
    "lrg_y_pred = lrg.predict(X_test)\n",
    "lrg_y_pred"
   ]
  },
  {
   "cell_type": "code",
   "execution_count": 50,
   "metadata": {},
   "outputs": [
    {
     "name": "stdout",
     "output_type": "stream",
     "text": [
      "MSE: 0.3997353324303127\n",
      "MAE: 0.49649435487371335\n",
      "RMSE: 0.19986766621515634\n"
     ]
    }
   ],
   "source": [
    "print(f\"MSE: {mean_squared_error(y_pred=lrg_y_pred, y_true=y_test)}\")\n",
    "print(f\"MAE: {mean_absolute_error(y_pred=lrg_y_pred, y_true=y_test)}\")\n",
    "print(f\"RMSE: {(mean_squared_error(y_pred=lrg_y_pred, y_true=y_test)) ** 1/2}\")  # para calcular o RMSE, apenas tiramos a raiz do MSE"
   ]
  }
 ],
 "metadata": {
  "kernelspec": {
   "display_name": "base",
   "language": "python",
   "name": "python3"
  },
  "language_info": {
   "codemirror_mode": {
    "name": "ipython",
    "version": 3
   },
   "file_extension": ".py",
   "mimetype": "text/x-python",
   "name": "python",
   "nbconvert_exporter": "python",
   "pygments_lexer": "ipython3",
   "version": "3.11.4"
  }
 },
 "nbformat": 4,
 "nbformat_minor": 2
}
