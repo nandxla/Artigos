{
 "cells": [
  {
   "cell_type": "code",
   "execution_count": 45,
   "metadata": {},
   "outputs": [],
   "source": [
    "import pandas as pd\n",
    "import numpy as np\n",
    "\n",
    "from sklearn.model_selection import train_test_split\n",
    "\n",
    "# 1. missing values\n",
    "from feature_engine.imputation import (\n",
    "    MeanMedianImputer,\n",
    "    ArbitraryNumberImputer,\n",
    ")\n"
   ]
  },
  {
   "cell_type": "code",
   "execution_count": 53,
   "metadata": {},
   "outputs": [],
   "source": [
    "house_prices = pd.read_csv('train.csv')\n",
    "\n",
    "target = 'SalePrice'\n",
    "numerical_features = [col for col in house_prices.columns if house_prices[col].dtypes in ['float64', 'int64'] and house_prices[col].name != target]\n",
    "categorical_features = [col for col in house_prices.columns if house_prices[col].dtypes == 'object' and house_prices[col].name != target]\n",
    "\n",
    "X = house_prices[numerical_features + categorical_features]\n",
    "y = house_prices[target]\n",
    "\n",
    "X_train, X_test, y_train, y_test = train_test_split(X, y)"
   ]
  },
  {
   "cell_type": "code",
   "execution_count": 54,
   "metadata": {},
   "outputs": [],
   "source": [
    "numerical_features_missing = [col for col in X_train.columns if X_train[col].isnull().any() and X_train[col].dtypes in ['float64', 'int64'] and X_train[col].name != target]\n",
    "categorical_features_missing = [col for col in X_train.columns if X_train[col].isnull().any() and X_train[col].dtypes == 'object' and X_train[col].name != target]"
   ]
  },
  {
   "cell_type": "markdown",
   "metadata": {},
   "source": [
    "# Missing Input Values"
   ]
  },
  {
   "cell_type": "markdown",
   "metadata": {},
   "source": [
    "### Mean and Median Input\n",
    "\n",
    "No código abaixo criamos uma instância do encoder. Logo em seguida, criamos um novo conjunto de dados de treino e teste, sem valores faltantes."
   ]
  },
  {
   "cell_type": "code",
   "execution_count": 55,
   "metadata": {},
   "outputs": [
    {
     "name": "stdout",
     "output_type": "stream",
     "text": [
      "<class 'pandas.core.frame.DataFrame'>\n",
      "Int64Index: 1095 entries, 110 to 1354\n",
      "Data columns (total 3 columns):\n",
      " #   Column       Non-Null Count  Dtype  \n",
      "---  ------       --------------  -----  \n",
      " 0   LotFrontage  1095 non-null   float64\n",
      " 1   MasVnrArea   1095 non-null   float64\n",
      " 2   GarageYrBlt  1095 non-null   float64\n",
      "dtypes: float64(3)\n",
      "memory usage: 34.2 KB\n"
     ]
    }
   ],
   "source": [
    "mmi =  MeanMedianImputer(imputation_method='median')\n",
    "\n",
    "X_train_mmi = mmi.fit_transform(X_train[numerical_features_missing])  \n",
    "X_test_mmi = mmi.transform(X_test[numerical_features_missing])\n",
    "\n",
    "X_train_mmi[numerical_features_missing].info()"
   ]
  },
  {
   "cell_type": "markdown",
   "metadata": {},
   "source": [
    "### ArbitraryNumberImputer"
   ]
  },
  {
   "cell_type": "code",
   "execution_count": 56,
   "metadata": {},
   "outputs": [
    {
     "name": "stdout",
     "output_type": "stream",
     "text": [
      "<class 'pandas.core.frame.DataFrame'>\n",
      "Int64Index: 1095 entries, 110 to 1354\n",
      "Data columns (total 3 columns):\n",
      " #   Column       Non-Null Count  Dtype  \n",
      "---  ------       --------------  -----  \n",
      " 0   LotFrontage  1095 non-null   float64\n",
      " 1   MasVnrArea   1095 non-null   float64\n",
      " 2   GarageYrBlt  1095 non-null   float64\n",
      "dtypes: float64(3)\n",
      "memory usage: 34.2 KB\n"
     ]
    }
   ],
   "source": [
    "ani = ArbitraryNumberImputer(arbitrary_number=10000)\n",
    "\n",
    "X_train_ani = ani.fit_transform(X_train[numerical_features_missing])\n",
    "X_test_ani = ani.transform(X_test[numerical_features_missing])\n",
    "\n",
    "X_train_ani[numerical_features_missing].info()"
   ]
  },
  {
   "cell_type": "code",
   "execution_count": null,
   "metadata": {},
   "outputs": [],
   "source": []
  }
 ],
 "metadata": {
  "kernelspec": {
   "display_name": "base",
   "language": "python",
   "name": "python3"
  },
  "language_info": {
   "codemirror_mode": {
    "name": "ipython",
    "version": 3
   },
   "file_extension": ".py",
   "mimetype": "text/x-python",
   "name": "python",
   "nbconvert_exporter": "python",
   "pygments_lexer": "ipython3",
   "version": "3.11.4"
  }
 },
 "nbformat": 4,
 "nbformat_minor": 2
}
