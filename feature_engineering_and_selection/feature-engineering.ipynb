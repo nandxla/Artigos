{
 "cells": [
  {
   "cell_type": "code",
   "execution_count": null,
   "metadata": {},
   "outputs": [],
   "source": [
    "import pandas as pd\n",
    "import numpy as np\n",
    "\n",
    "from sklearn.model_selection import train_test_split\n",
    "\n",
    "# 1. missing values\n",
    "from feature_engine.imputation import (\n",
    "    MeanMedianImputer,\n",
    "    ArbitraryNumberImputer,\n",
    "    CategoricalImputer,\n",
    "    RandomSampleImputer,\n",
    "    AddMissingIndicator,\n",
    "    DropMissingData,\n",
    ")\n"
   ]
  },
  {
   "cell_type": "code",
   "execution_count": null,
   "metadata": {},
   "outputs": [],
   "source": [
    "house_prices = pd.read_csv('train.csv')\n",
    "\n",
    "target = 'SalePrice'\n",
    "numerical_features = [col for col in house_prices.columns if house_prices[col].dtypes in ['float64', 'int64'] and house_prices[col].name != target]\n",
    "categorical_features = [col for col in house_prices.columns if house_prices[col].dtypes == 'object' and house_prices[col].name != target]\n",
    "\n",
    "X = house_prices[numerical_features + categorical_features]\n",
    "y = house_prices[target]\n",
    "\n",
    "X_train, X_test, y_train, y_test = train_test_split(X, y)"
   ]
  },
  {
   "cell_type": "code",
   "execution_count": null,
   "metadata": {},
   "outputs": [],
   "source": [
    "# Pegando apenas as colunas com valores faltantes\n",
    "\n",
    "numerical_features_missing = [col for col in X_train.columns if X_train[col].isnull().any() and X_train[col].dtypes in ['float64', 'int64'] and X_train[col].name != target]\n",
    "categorical_features_missing = [col for col in X_train.columns if X_train[col].isnull().any() and X_train[col].dtypes == 'object' and X_train[col].name != target]"
   ]
  },
  {
   "cell_type": "markdown",
   "metadata": {},
   "source": [
    "# Missing Input Values"
   ]
  },
  {
   "cell_type": "markdown",
   "metadata": {},
   "source": [
    "### Mean and Median Input"
   ]
  },
  {
   "cell_type": "code",
   "execution_count": null,
   "metadata": {},
   "outputs": [],
   "source": [
    "mmi =  MeanMedianImputer(imputation_method='median')  # podemos substituir por \"mean\"\n",
    "\n",
    "X_train_mmi = mmi.fit_transform(X_train[numerical_features_missing])  \n",
    "X_test_mmi = mmi.transform(X_test[numerical_features_missing])\n",
    "\n",
    "X_train_mmi.info()"
   ]
  },
  {
   "cell_type": "markdown",
   "metadata": {},
   "source": [
    "### ArbitraryNumberImputer"
   ]
  },
  {
   "cell_type": "code",
   "execution_count": null,
   "metadata": {},
   "outputs": [],
   "source": [
    "ani = ArbitraryNumberImputer(arbitrary_number=10000)\n",
    "\n",
    "X_train_ani = ani.fit_transform(X_train[numerical_features_missing])\n",
    "X_test_ani = ani.transform(X_test[numerical_features_missing])\n",
    "\n",
    "X_train_ani.info()"
   ]
  },
  {
   "cell_type": "markdown",
   "metadata": {},
   "source": [
    "### Categorical Imputer"
   ]
  },
  {
   "cell_type": "code",
   "execution_count": null,
   "metadata": {},
   "outputs": [],
   "source": [
    "cti = CategoricalImputer(imputation_method=\"frequent\")\n",
    "\n",
    "X_train_cti = cti.fit_transform(X_train[categorical_features_missing])\n",
    "X_test_cti = cti.transform(X_train[categorical_features_missing])\n",
    "\n",
    "X_train_cti.info()  # nenhum valor faltante"
   ]
  },
  {
   "cell_type": "code",
   "execution_count": null,
   "metadata": {},
   "outputs": [],
   "source": [
    "rsi = RandomSampleImputer()\n",
    "\n",
    "X_train_rsi = rsi.fit_transform(X_train[numerical_features_missing + categorical_features_missing])\n",
    "X_test_rsi = rsi.transform(X_train[numerical_features_missing + categorical_features_missing])\n",
    "\n",
    "X_train_rsi.info()"
   ]
  },
  {
   "cell_type": "code",
   "execution_count": null,
   "metadata": {},
   "outputs": [],
   "source": [
    "ami = AddMissingIndicator()\n",
    "\n",
    "X_train_ami = ami.fit_transform(X_train[numerical_features_missing + categorical_features_missing])\n",
    "X_test_ami = ami.transform(X_train[numerical_features_missing + categorical_features_missing])\n",
    "\n",
    "X_train_ami.info()\n",
    "\n",
    "# Podemos ver que ele adicionou colunas a mais no nosso Dataset, com sufixo _na, essas colunas são os indicadores de missing."
   ]
  },
  {
   "cell_type": "code",
   "execution_count": null,
   "metadata": {},
   "outputs": [],
   "source": [
    "dmd = DropMissingData()\n",
    "\n",
    "X_train_dmd = dmd.fit_transform(X_train[numerical_features_missing + categorical_features_missing])\n",
    "X_test_dmd = dmd.transform(X_train[numerical_features_missing + categorical_features_missing])\n",
    "\n",
    "X_train_dmd.info()  # foram excluídas as linhas "
   ]
  },
  {
   "cell_type": "markdown",
   "metadata": {},
   "source": [
    "# Categorical Encoding"
   ]
  },
  {
   "cell_type": "code",
   "execution_count": null,
   "metadata": {},
   "outputs": [],
   "source": []
  }
 ],
 "metadata": {
  "kernelspec": {
   "display_name": "base",
   "language": "python",
   "name": "python3"
  },
  "language_info": {
   "codemirror_mode": {
    "name": "ipython",
    "version": 3
   },
   "file_extension": ".py",
   "mimetype": "text/x-python",
   "name": "python",
   "nbconvert_exporter": "python",
   "pygments_lexer": "ipython3",
   "version": "3.11.4"
  }
 },
 "nbformat": 4,
 "nbformat_minor": 2
}
